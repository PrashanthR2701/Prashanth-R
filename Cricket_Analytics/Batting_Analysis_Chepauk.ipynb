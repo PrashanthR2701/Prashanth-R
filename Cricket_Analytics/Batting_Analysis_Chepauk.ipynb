{
 "cells": [
  {
   "cell_type": "markdown",
   "id": "7352ce1b",
   "metadata": {},
   "source": [
    "### Problem statement: How good is a player X against CSK in Chepauk when they're playing 3 spinners?"
   ]
  },
  {
   "cell_type": "markdown",
   "id": "6a7a5a2b",
   "metadata": {},
   "source": [
    "### Filters in Problem statement\n",
    "\n",
    "- Venue - 'MA Chidambaram Stadium, Chepauk'\n",
    "- Phase - 'Middle'\n",
    "- Opponent - 'Chennai Super Kings'"
   ]
  },
  {
   "cell_type": "code",
   "execution_count": 7,
   "id": "a5f1530e",
   "metadata": {},
   "outputs": [],
   "source": [
    "# Importing all warnings & libraries\n",
    "\n",
    "import warnings\n",
    "warnings.filterwarnings('ignore')\n",
    "\n",
    "import pandas as pd\n",
    "import numpy as np\n",
    "import math\n",
    "import matplotlib.pyplot as plt\n",
    "\n",
    "pd.set_option('display.max_columns', None)\n",
    "pd.set_option('display.expand_frame_repr', False)\n",
    "pd.set_option('max_colwidth', -1)"
   ]
  },
  {
   "cell_type": "code",
   "execution_count": 8,
   "id": "52f74de3",
   "metadata": {},
   "outputs": [],
   "source": [
    "# Importing the 'deliveries' and 'matches' data\n",
    "\n",
    "deliveries = pd.read_csv('deliveries.csv')\n",
    "matches = pd.read_csv('matches.csv')"
   ]
  },
  {
   "cell_type": "code",
   "execution_count": 9,
   "id": "e138c1a1",
   "metadata": {},
   "outputs": [],
   "source": [
    "# Function for Balls per Dismissals\n",
    "\n",
    "def balls_per_dismissal(balls, dismissals):\n",
    "    if dismissals > 0:\n",
    "        return balls/dismissals\n",
    "    else:\n",
    "        return balls/1"
   ]
  },
  {
   "cell_type": "code",
   "execution_count": 10,
   "id": "ac383e67",
   "metadata": {},
   "outputs": [],
   "source": [
    "# Function for Balls per Boundary\n",
    "\n",
    "def balls_per_boundary(balls, boundaries):\n",
    "    if boundaries > 0:\n",
    "        return balls/boundaries\n",
    "    else:\n",
    "        return balls/1"
   ]
  },
  {
   "cell_type": "code",
   "execution_count": 11,
   "id": "9b23cd71",
   "metadata": {},
   "outputs": [],
   "source": [
    "# Function defined using the Dataframe with filters like venue, phase & opposition\n",
    "\n",
    "def ByCustom(df, current_venue, current_phase, current_opposition):\n",
    "    df = df[df.venue == current_venue]\n",
    "    df = df[df.phase == current_phase]\n",
    "    df = df[df.bowling_team == current_opposition]\n",
    "    df.reset_index(inplace = True, drop = True)\n",
    "    \n",
    "    df['isDot'] = df['batsman_runs'].apply(lambda x: 1 if x == 0 else 0)\n",
    "    df['isOne'] = df['batsman_runs'].apply(lambda x: 1 if x == 1 else 0)\n",
    "    df['isTwo'] = df['batsman_runs'].apply(lambda x: 1 if x == 2 else 0)\n",
    "    df['isThree'] = df['batsman_runs'].apply(lambda x: 1 if x == 3 else 0)\n",
    "    \n",
    "    df['isFour'] = df['batsman_runs'].apply(lambda x: 1 if x == 4 else 0)\n",
    "    df['isSix'] = df['batsman_runs'].apply(lambda x: 1 if x == 6 else 0)\n",
    "    \n",
    "    runs = pd.DataFrame(df.groupby(['batsman'])['batsman_runs'].sum()).reset_index().rename(columns = {'batsman_runs':'runs'})\n",
    "    balls = pd.DataFrame(df.groupby(['batsman'])['match_id'].count()).reset_index().rename(columns = {'match_id':'balls'})\n",
    "    innings = pd.DataFrame(df.groupby(['batsman'])['match_id'].apply(lambda x: len(list(np.unique(x))))).reset_index().rename(columns = {'match_id':'innings'})\n",
    "    dismissals = pd.DataFrame(df.groupby(['batsman'])['player_dismissed'].count()).reset_index().rename(columns = {'player_dismissed':'dismissals'})\n",
    "    sixes = pd.DataFrame(df.groupby(['batsman'])['isSix'].sum()).reset_index().rename(columns = {'isSix':'sixes'})\n",
    "    fours = pd.DataFrame(df.groupby(['batsman'])['isFour'].sum()).reset_index().rename(columns = {'isFour':'fours'})\n",
    "    \n",
    "    dots = pd.DataFrame(df.groupby(['batsman'])['isDot'].sum()).reset_index().rename(columns = {'isDot':'dots'})\n",
    "    \n",
    "    df = pd.merge(innings, runs, on = 'batsman').merge(balls, on = 'batsman').merge(dismissals, on = 'batsman').merge(fours, on = 'batsman').merge(sixes, on = 'batsman').merge(dots, on = 'batsman')\n",
    "    df['RPI'] = df.apply(lambda x: (x['runs']/x['innings']), axis=1)\n",
    "    df['SR'] = df.apply(lambda x: 100*(x['runs']/x['balls']), axis=1)\n",
    "    df['BPD'] = df.apply(lambda x: balls_per_dismissal(x['balls'], x['dismissals']), axis=1)\n",
    "    df['BPB'] = df.apply(lambda x: balls_per_boundary(x['balls'], (x['fours'] + x['sixes'])), axis=1)\n",
    "    \n",
    "    df['dot_percentage'] = df.apply(lambda x: (x['dots']/x['balls']), axis=1)\n",
    "    \n",
    "    return df"
   ]
  },
  {
   "cell_type": "code",
   "execution_count": 12,
   "id": "65611463",
   "metadata": {},
   "outputs": [],
   "source": [
    "# Copyig the deliveries dataset into Dataframe df for analyzing.\n",
    "\n",
    "df = deliveries.copy()"
   ]
  },
  {
   "cell_type": "code",
   "execution_count": 13,
   "id": "699b154f",
   "metadata": {},
   "outputs": [],
   "source": [
    "# Copyig the matches dataset into Dataframe mdf for analyzing.\n",
    "\n",
    "mdf = matches.copy()"
   ]
  },
  {
   "cell_type": "code",
   "execution_count": 14,
   "id": "d57a501f",
   "metadata": {},
   "outputs": [],
   "source": [
    "# Renaming column 'id' to 'match_id' for easy joining.\n",
    "\n",
    "mdf = mdf.rename(columns = {'id':'match_id'})"
   ]
  },
  {
   "cell_type": "code",
   "execution_count": 15,
   "id": "49c33e20",
   "metadata": {},
   "outputs": [],
   "source": [
    "# Merging df & mdf to form a combined dataframe 'comb'.\n",
    "\n",
    "comb = pd.merge(df, mdf, on = 'match_id', how = 'left')"
   ]
  },
  {
   "cell_type": "code",
   "execution_count": 16,
   "id": "ec2ffe5f",
   "metadata": {},
   "outputs": [],
   "source": [
    "comb['over_no'] = comb['over'].apply(lambda x: x - 1)"
   ]
  },
  {
   "cell_type": "code",
   "execution_count": 17,
   "id": "fd6cc887",
   "metadata": {},
   "outputs": [],
   "source": [
    "# Function definition to get various phases in a match.\n",
    "\n",
    "def get_phase(over_no):\n",
    "    if over_no < 6:\n",
    "        return 'Powerplay'\n",
    "    elif over_no < 15:\n",
    "        return 'Middle'\n",
    "    else:\n",
    "        return 'Death'"
   ]
  },
  {
   "cell_type": "code",
   "execution_count": 18,
   "id": "c1a994ef",
   "metadata": {},
   "outputs": [],
   "source": [
    "comb['phase'] = comb['over_no'].apply(lambda x: get_phase(x))"
   ]
  },
  {
   "cell_type": "code",
   "execution_count": 19,
   "id": "79c2600c",
   "metadata": {},
   "outputs": [],
   "source": [
    "# Dataframe to get the data corresponding to our initial filters considered.\n",
    "\n",
    "df = ByCustom(comb, 'MA Chidambaram Stadium, Chepauk', 'Middle', 'Chennai Super Kings')"
   ]
  },
  {
   "cell_type": "code",
   "execution_count": 20,
   "id": "741fc9bb",
   "metadata": {},
   "outputs": [
    {
     "data": {
      "text/html": [
       "<div>\n",
       "<style scoped>\n",
       "    .dataframe tbody tr th:only-of-type {\n",
       "        vertical-align: middle;\n",
       "    }\n",
       "\n",
       "    .dataframe tbody tr th {\n",
       "        vertical-align: top;\n",
       "    }\n",
       "\n",
       "    .dataframe thead th {\n",
       "        text-align: right;\n",
       "    }\n",
       "</style>\n",
       "<table border=\"1\" class=\"dataframe\">\n",
       "  <thead>\n",
       "    <tr style=\"text-align: right;\">\n",
       "      <th></th>\n",
       "      <th>batsman</th>\n",
       "      <th>innings</th>\n",
       "      <th>runs</th>\n",
       "      <th>balls</th>\n",
       "      <th>dismissals</th>\n",
       "      <th>fours</th>\n",
       "      <th>sixes</th>\n",
       "      <th>dots</th>\n",
       "      <th>RPI</th>\n",
       "      <th>SR</th>\n",
       "      <th>BPD</th>\n",
       "      <th>BPB</th>\n",
       "      <th>dot_percentage</th>\n",
       "    </tr>\n",
       "  </thead>\n",
       "  <tbody>\n",
       "    <tr>\n",
       "      <th>0</th>\n",
       "      <td>A Mishra</td>\n",
       "      <td>1</td>\n",
       "      <td>14</td>\n",
       "      <td>16</td>\n",
       "      <td>1</td>\n",
       "      <td>2</td>\n",
       "      <td>0</td>\n",
       "      <td>9</td>\n",
       "      <td>14.0</td>\n",
       "      <td>87.500000</td>\n",
       "      <td>16.0</td>\n",
       "      <td>8.000000</td>\n",
       "      <td>0.562500</td>\n",
       "    </tr>\n",
       "    <tr>\n",
       "      <th>1</th>\n",
       "      <td>A Mithun</td>\n",
       "      <td>1</td>\n",
       "      <td>11</td>\n",
       "      <td>8</td>\n",
       "      <td>1</td>\n",
       "      <td>2</td>\n",
       "      <td>0</td>\n",
       "      <td>3</td>\n",
       "      <td>11.0</td>\n",
       "      <td>137.500000</td>\n",
       "      <td>8.0</td>\n",
       "      <td>4.000000</td>\n",
       "      <td>0.375000</td>\n",
       "    </tr>\n",
       "    <tr>\n",
       "      <th>2</th>\n",
       "      <td>A Symonds</td>\n",
       "      <td>1</td>\n",
       "      <td>27</td>\n",
       "      <td>27</td>\n",
       "      <td>0</td>\n",
       "      <td>2</td>\n",
       "      <td>1</td>\n",
       "      <td>12</td>\n",
       "      <td>27.0</td>\n",
       "      <td>100.000000</td>\n",
       "      <td>27.0</td>\n",
       "      <td>9.000000</td>\n",
       "      <td>0.444444</td>\n",
       "    </tr>\n",
       "    <tr>\n",
       "      <th>3</th>\n",
       "      <td>AB Agarkar</td>\n",
       "      <td>1</td>\n",
       "      <td>6</td>\n",
       "      <td>2</td>\n",
       "      <td>0</td>\n",
       "      <td>1</td>\n",
       "      <td>0</td>\n",
       "      <td>0</td>\n",
       "      <td>6.0</td>\n",
       "      <td>300.000000</td>\n",
       "      <td>2.0</td>\n",
       "      <td>2.000000</td>\n",
       "      <td>0.000000</td>\n",
       "    </tr>\n",
       "    <tr>\n",
       "      <th>4</th>\n",
       "      <td>AB de Villiers</td>\n",
       "      <td>4</td>\n",
       "      <td>88</td>\n",
       "      <td>61</td>\n",
       "      <td>1</td>\n",
       "      <td>10</td>\n",
       "      <td>1</td>\n",
       "      <td>17</td>\n",
       "      <td>22.0</td>\n",
       "      <td>144.262295</td>\n",
       "      <td>61.0</td>\n",
       "      <td>5.545455</td>\n",
       "      <td>0.278689</td>\n",
       "    </tr>\n",
       "  </tbody>\n",
       "</table>\n",
       "</div>"
      ],
      "text/plain": [
       "          batsman  innings  runs  balls  dismissals  fours  sixes  dots   RPI          SR   BPD       BPB  dot_percentage\n",
       "0  A Mishra        1        14    16     1           2      0      9     14.0  87.500000   16.0  8.000000  0.562500      \n",
       "1  A Mithun        1        11    8      1           2      0      3     11.0  137.500000  8.0   4.000000  0.375000      \n",
       "2  A Symonds       1        27    27     0           2      1      12    27.0  100.000000  27.0  9.000000  0.444444      \n",
       "3  AB Agarkar      1        6     2      0           1      0      0     6.0   300.000000  2.0   2.000000  0.000000      \n",
       "4  AB de Villiers  4        88    61     1           10     1      17    22.0  144.262295  61.0  5.545455  0.278689      "
      ]
     },
     "execution_count": 20,
     "metadata": {},
     "output_type": "execute_result"
    }
   ],
   "source": [
    "df.head(5)"
   ]
  },
  {
   "cell_type": "code",
   "execution_count": 21,
   "id": "9e65984e",
   "metadata": {},
   "outputs": [],
   "source": [
    "# Assigning weights to various considered factors using MCDM method.\n",
    "\n",
    "wt_sr, wt_rpi, wt_bpd, wt_dot_percentage = 0.13, 0.27, 0.16, 0.45"
   ]
  },
  {
   "cell_type": "markdown",
   "id": "2a3fdcae",
   "metadata": {},
   "source": [
    "#### Filter to avoid outliers"
   ]
  },
  {
   "cell_type": "code",
   "execution_count": 22,
   "id": "5a3810f6",
   "metadata": {},
   "outputs": [],
   "source": [
    "df = df[(df.innings >= 2) & (df.balls >= 20)]"
   ]
  },
  {
   "cell_type": "markdown",
   "id": "3edaa34b",
   "metadata": {},
   "source": [
    "#### Calculation - Normalizing all values to same dimensions."
   ]
  },
  {
   "cell_type": "code",
   "execution_count": 23,
   "id": "14dee223",
   "metadata": {},
   "outputs": [],
   "source": [
    "df['calc_SR'] = df['SR'].apply(lambda x: x*x)\n",
    "df['calc_RPI'] = df['RPI'].apply(lambda x: x*x)\n",
    "df['calc_BPD'] = df['BPD'].apply(lambda x: x*x)\n",
    "df['calc_dot_percentage'] = df['dot_percentage'].apply(lambda x: x*x)\n",
    "\n",
    "sq_sr, sq_rpi, sq_bpd, sq_dot_percentage = np.sqrt(df[['calc_SR', 'calc_RPI', 'calc_BPD', 'calc_dot_percentage']].sum(axis = 0))\n",
    "\n",
    "df['calc_SR'] = df['calc_SR'].apply(lambda x: x/sq_sr)\n",
    "df['calc_RPI'] = df['calc_RPI'].apply(lambda x: x/sq_rpi)\n",
    "df['calc_BPD'] = df['calc_BPD'].apply(lambda x: x/sq_bpd)\n",
    "df['calc_dot_percentage'] = df['calc_dot_percentage'].apply(lambda x: x/sq_dot_percentage)\n",
    "\n",
    "df['calc_SR'] = df['calc_SR'].apply(lambda x: x*wt_sr)\n",
    "df['calc_RPI'] = df['calc_RPI'].apply(lambda x: x*wt_rpi)\n",
    "df['calc_BPD'] = df['calc_BPD'].apply(lambda x: x*wt_bpd)\n",
    "df['calc_dot_percentage'] = df['calc_dot_percentage'].apply(lambda x: x*wt_dot_percentage)\n",
    "\n",
    "best_sr, worst_sr = max(df['calc_SR']), min(df['calc_SR'])\n",
    "best_rpi, worst_rpi = max(df['calc_RPI']), min(df['calc_RPI'])\n",
    "best_bpd, worst_bpd = max(df['calc_BPD']), min(df['calc_BPD'])\n",
    "best_dot_percentage, worst_dot_percentage = min(df['calc_dot_percentage']), max(df['calc_dot_percentage'])"
   ]
  },
  {
   "cell_type": "markdown",
   "id": "c32dabf8",
   "metadata": {},
   "source": [
    "#### Calculation - Comparison against the best & worst values."
   ]
  },
  {
   "cell_type": "code",
   "execution_count": 24,
   "id": "2571be76",
   "metadata": {},
   "outputs": [],
   "source": [
    "df['dev_best_sr'] = df['calc_SR'].apply(lambda x: (x-best_sr)*(x-best_sr))\n",
    "df['dev_best_rpi'] = df['calc_RPI'].apply(lambda x: (x-best_rpi)*(x-best_rpi))\n",
    "df['dev_best_bpd'] = df['calc_BPD'].apply(lambda x: (x-best_bpd)*(x-best_bpd))\n",
    "df['dev_best_dot_percentage'] = df['calc_dot_percentage'].apply(lambda x: (x-best_dot_percentage)*(x-best_dot_percentage))\n",
    "\n",
    "df['dev_best_sqrt'] = df.apply(lambda x: x['dev_best_sr'] + x['dev_best_rpi'] + x['dev_best_bpd'] + x['dev_best_dot_percentage'], axis = 1)\n",
    "\n",
    "df['dev_worst_sr'] = df['calc_SR'].apply(lambda x: (x-worst_sr)*(x-worst_sr))\n",
    "df['dev_worst_rpi'] = df['calc_RPI'].apply(lambda x: (x-worst_rpi)*(x-worst_rpi))\n",
    "df['dev_worst_bpd'] = df['calc_BPD'].apply(lambda x: (x-worst_bpd)*(x-worst_bpd))\n",
    "df['dev_worst_dot_percentage'] = df['calc_dot_percentage'].apply(lambda x: (x-worst_dot_percentage)*(x-worst_dot_percentage))\n",
    "\n",
    "df['dev_worst_sqrt'] = df.apply(lambda x: x['dev_worst_sr'] + x['dev_worst_rpi'] + x['dev_worst_bpd'] + x['dev_worst_dot_percentage'], axis = 1)"
   ]
  },
  {
   "cell_type": "markdown",
   "id": "85f98ce0",
   "metadata": {},
   "source": [
    "#### Overall Score for each player (values from 0 to 1)"
   ]
  },
  {
   "cell_type": "code",
   "execution_count": 25,
   "id": "aabaea3c",
   "metadata": {},
   "outputs": [],
   "source": [
    "df['score'] = df.apply(lambda x: x['dev_worst_sqrt']/(x['dev_worst_sqrt'] + x['dev_best_sqrt']), axis = 1)"
   ]
  },
  {
   "cell_type": "code",
   "execution_count": 26,
   "id": "5c8747f2",
   "metadata": {},
   "outputs": [
    {
     "data": {
      "text/html": [
       "<div>\n",
       "<style scoped>\n",
       "    .dataframe tbody tr th:only-of-type {\n",
       "        vertical-align: middle;\n",
       "    }\n",
       "\n",
       "    .dataframe tbody tr th {\n",
       "        vertical-align: top;\n",
       "    }\n",
       "\n",
       "    .dataframe thead th {\n",
       "        text-align: right;\n",
       "    }\n",
       "</style>\n",
       "<table border=\"1\" class=\"dataframe\">\n",
       "  <thead>\n",
       "    <tr style=\"text-align: right;\">\n",
       "      <th></th>\n",
       "      <th>batsman</th>\n",
       "      <th>innings</th>\n",
       "      <th>runs</th>\n",
       "      <th>dismissals</th>\n",
       "      <th>SR</th>\n",
       "      <th>dots</th>\n",
       "      <th>RPI</th>\n",
       "      <th>score</th>\n",
       "    </tr>\n",
       "  </thead>\n",
       "  <tbody>\n",
       "    <tr>\n",
       "      <th>0</th>\n",
       "      <td>SE Marsh</td>\n",
       "      <td>3</td>\n",
       "      <td>104</td>\n",
       "      <td>1</td>\n",
       "      <td>192.592593</td>\n",
       "      <td>10</td>\n",
       "      <td>34.666667</td>\n",
       "      <td>0.948585</td>\n",
       "    </tr>\n",
       "    <tr>\n",
       "      <th>1</th>\n",
       "      <td>SR Watson</td>\n",
       "      <td>4</td>\n",
       "      <td>121</td>\n",
       "      <td>2</td>\n",
       "      <td>172.857143</td>\n",
       "      <td>16</td>\n",
       "      <td>30.250000</td>\n",
       "      <td>0.752836</td>\n",
       "    </tr>\n",
       "    <tr>\n",
       "      <th>2</th>\n",
       "      <td>AB de Villiers</td>\n",
       "      <td>4</td>\n",
       "      <td>88</td>\n",
       "      <td>1</td>\n",
       "      <td>144.262295</td>\n",
       "      <td>17</td>\n",
       "      <td>22.000000</td>\n",
       "      <td>0.621450</td>\n",
       "    </tr>\n",
       "    <tr>\n",
       "      <th>3</th>\n",
       "      <td>G Gambhir</td>\n",
       "      <td>3</td>\n",
       "      <td>86</td>\n",
       "      <td>1</td>\n",
       "      <td>117.808219</td>\n",
       "      <td>21</td>\n",
       "      <td>28.666667</td>\n",
       "      <td>0.554617</td>\n",
       "    </tr>\n",
       "    <tr>\n",
       "      <th>4</th>\n",
       "      <td>NV Ojha</td>\n",
       "      <td>3</td>\n",
       "      <td>64</td>\n",
       "      <td>2</td>\n",
       "      <td>156.097561</td>\n",
       "      <td>12</td>\n",
       "      <td>21.333333</td>\n",
       "      <td>0.483739</td>\n",
       "    </tr>\n",
       "    <tr>\n",
       "      <th>5</th>\n",
       "      <td>Y Venugopal Rao</td>\n",
       "      <td>3</td>\n",
       "      <td>67</td>\n",
       "      <td>1</td>\n",
       "      <td>131.372549</td>\n",
       "      <td>16</td>\n",
       "      <td>22.333333</td>\n",
       "      <td>0.407355</td>\n",
       "    </tr>\n",
       "    <tr>\n",
       "      <th>6</th>\n",
       "      <td>MS Bisla</td>\n",
       "      <td>3</td>\n",
       "      <td>89</td>\n",
       "      <td>2</td>\n",
       "      <td>134.848485</td>\n",
       "      <td>20</td>\n",
       "      <td>29.666667</td>\n",
       "      <td>0.401361</td>\n",
       "    </tr>\n",
       "    <tr>\n",
       "      <th>7</th>\n",
       "      <td>V Kohli</td>\n",
       "      <td>7</td>\n",
       "      <td>175</td>\n",
       "      <td>4</td>\n",
       "      <td>116.666667</td>\n",
       "      <td>50</td>\n",
       "      <td>25.000000</td>\n",
       "      <td>0.228748</td>\n",
       "    </tr>\n",
       "    <tr>\n",
       "      <th>8</th>\n",
       "      <td>DJ Bravo</td>\n",
       "      <td>2</td>\n",
       "      <td>26</td>\n",
       "      <td>2</td>\n",
       "      <td>130.000000</td>\n",
       "      <td>7</td>\n",
       "      <td>13.000000</td>\n",
       "      <td>0.206668</td>\n",
       "    </tr>\n",
       "    <tr>\n",
       "      <th>9</th>\n",
       "      <td>AD Mathews</td>\n",
       "      <td>2</td>\n",
       "      <td>42</td>\n",
       "      <td>0</td>\n",
       "      <td>116.666667</td>\n",
       "      <td>12</td>\n",
       "      <td>21.000000</td>\n",
       "      <td>0.193248</td>\n",
       "    </tr>\n",
       "  </tbody>\n",
       "</table>\n",
       "</div>"
      ],
      "text/plain": [
       "           batsman  innings  runs  dismissals          SR  dots        RPI     score\n",
       "0  SE Marsh         3        104   1           192.592593  10    34.666667  0.948585\n",
       "1  SR Watson        4        121   2           172.857143  16    30.250000  0.752836\n",
       "2  AB de Villiers   4        88    1           144.262295  17    22.000000  0.621450\n",
       "3  G Gambhir        3        86    1           117.808219  21    28.666667  0.554617\n",
       "4  NV Ojha          3        64    2           156.097561  12    21.333333  0.483739\n",
       "5  Y Venugopal Rao  3        67    1           131.372549  16    22.333333  0.407355\n",
       "6  MS Bisla         3        89    2           134.848485  20    29.666667  0.401361\n",
       "7  V Kohli          7        175   4           116.666667  50    25.000000  0.228748\n",
       "8  DJ Bravo         2        26    2           130.000000  7     13.000000  0.206668\n",
       "9  AD Mathews       2        42    0           116.666667  12    21.000000  0.193248"
      ]
     },
     "execution_count": 26,
     "metadata": {},
     "output_type": "execute_result"
    }
   ],
   "source": [
    "df[['batsman', 'innings', 'runs', 'dismissals', 'SR', 'dots', 'RPI', 'score']].sort_values(by = 'score', ascending = False).reset_index(drop = True).head(10)"
   ]
  },
  {
   "cell_type": "markdown",
   "id": "c8b135ef",
   "metadata": {},
   "source": [
    "### Conclusion"
   ]
  },
  {
   "cell_type": "markdown",
   "id": "e8c2f4ad",
   "metadata": {},
   "source": [
    "From the above analysis for a Player 'X' we have the Top 10 batters who play spin well at Chepauk against CSK when CSK possess three spinners."
   ]
  },
  {
   "cell_type": "markdown",
   "id": "431f09bd",
   "metadata": {},
   "source": [
    "We could easily see that Shaun Marsh stands top of the ladder with a score of 0.94 with 104 runs in just 3 innings at a whopping strike rate of 192.6 approximately with a staggering Runs per Innings of 34.6 playing just 10 dots and dismissed once."
   ]
  },
  {
   "cell_type": "markdown",
   "id": "4adf57cc",
   "metadata": {},
   "source": [
    "Marsh is followed by other IPL Legends in Shane Watson & AB de Villiers in the final ladder."
   ]
  }
 ],
 "metadata": {
  "kernelspec": {
   "display_name": "Python 3 (ipykernel)",
   "language": "python",
   "name": "python3"
  },
  "language_info": {
   "codemirror_mode": {
    "name": "ipython",
    "version": 3
   },
   "file_extension": ".py",
   "mimetype": "text/x-python",
   "name": "python",
   "nbconvert_exporter": "python",
   "pygments_lexer": "ipython3",
   "version": "3.9.7"
  }
 },
 "nbformat": 4,
 "nbformat_minor": 5
}
